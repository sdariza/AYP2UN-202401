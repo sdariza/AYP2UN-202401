{
  "cells": [
    {
      "cell_type": "markdown",
      "metadata": {},
      "source": [
        "Calcular de forma recursiva:\n",
        "\n",
        "$$\n",
        "\\sum_{i=1}^{n} i\n",
        "\n",
        "$$"
      ]
    },
    {
      "cell_type": "code",
      "execution_count": null,
      "metadata": {
        "id": "VTLP2YfDosRq"
      },
      "outputs": [],
      "source": [
        "def suma_recursiva(n:int,i:int):\n",
        "  \"\"\"función para sumar n números naturales de forma recursiva\n",
        "\n",
        "  Args:\n",
        "      n (int): cantidad de números\n",
        "      i (int): variale iteradora\n",
        "\n",
        "  Returns:\n",
        "      int: sumatoria de i hasta n\n",
        "  \"\"\"\n",
        "  if n == i :\n",
        "    return n\n",
        "  else:\n",
        "    print(f'suma_recursiva{n,i+1}+{i}')\n",
        "    return suma_recursiva(n,i+1)+i"
      ]
    },
    {
      "cell_type": "code",
      "execution_count": null,
      "metadata": {
        "colab": {
          "base_uri": "https://localhost:8080/"
        },
        "id": "ZJd_URPuo8Fx",
        "outputId": "04ab25c9-5e9d-46ac-9010-5f393b5e0492"
      },
      "outputs": [
        {
          "name": "stdout",
          "output_type": "stream",
          "text": [
            "suma_recursiva(5, 2)+1\n",
            "suma_recursiva(5, 3)+2\n",
            "suma_recursiva(5, 4)+3\n",
            "suma_recursiva(5, 5)+4\n",
            "15\n"
          ]
        }
      ],
      "source": [
        "print(suma_recursiva(5,1))"
      ]
    },
    {
      "cell_type": "markdown",
      "metadata": {},
      "source": [
        "Calcular de forma recursiva:\n",
        "\n",
        "$$\n",
        "\n",
        "f(n) = \\left\\{\\begin{matrix} n(n-1)!,\\quad n \\geq 1 \\\\\n",
        "1, \\quad n = 0\\end{matrix}\\right.\n",
        "        \n",
        "\n",
        "\n",
        "$$"
      ]
    },
    {
      "cell_type": "code",
      "execution_count": null,
      "metadata": {
        "id": "TBX09lpOs4qK"
      },
      "outputs": [],
      "source": [
        "def factorial_recursivo(n:int):\n",
        "  \"\"\"función para calcular el factorial de un número de forma recursiva\n",
        "\n",
        "  Args:\n",
        "      n (int): factorial de n\n",
        "\n",
        "  Returns:\n",
        "      int: n!\n",
        "  \"\"\"\n",
        "  if n == 0:\n",
        "    return 1\n",
        "  else:\n",
        "    return factorial_recursivo(n-1) * n"
      ]
    },
    {
      "cell_type": "markdown",
      "metadata": {
        "id": "dR2XnubBwlzY"
      },
      "source": [
        "Realice un algoritmo netamente recursivo para leer un vector de n elementos e imprima el máximo elemento que este contiene."
      ]
    },
    {
      "cell_type": "code",
      "execution_count": null,
      "metadata": {
        "id": "UwwySM-3xN4p"
      },
      "outputs": [],
      "source": [
        "import numpy as np"
      ]
    },
    {
      "cell_type": "code",
      "execution_count": null,
      "metadata": {
        "id": "Ei0jEJhlwjxa"
      },
      "outputs": [],
      "source": [
        "def leer_vector_recursivo(v:np.array,n:int,i:int):\n",
        "  \"\"\"procedimiento recursivo para leer un vector de forma recursiva\n",
        "\n",
        "  Args:\n",
        "      v (np.array): vector\n",
        "      n (int): dimensión\n",
        "      i (int): variable iteradora\n",
        "  \"\"\"\n",
        "  if i < n:\n",
        "    v[i] = int(input(f\"ingrese v[{i}]\"))\n",
        "    leer_vector_recursivo(v,n,i+1)\n"
      ]
    },
    {
      "cell_type": "code",
      "execution_count": null,
      "metadata": {},
      "outputs": [],
      "source": [
        "def calMax(v,n,i,max):\n",
        "    \"\"\"función recursiva para calcular el máximo valor de un vector\n",
        "\n",
        "    Args:\n",
        "        v (np.array): vector\n",
        "        n (int): dimensión\n",
        "        i (int): variable iteradora\n",
        "        max (int): varible que va almacenando el máximo elemento\n",
        "\n",
        "    Returns:\n",
        "        int: máximo elemento de v\n",
        "    \"\"\"\n",
        "    if i == n+1:\n",
        "        return max\n",
        "    else:\n",
        "        return calMax(v,n,i+1, v[i] if max < v[i] else max)\n"
      ]
    },
    {
      "cell_type": "code",
      "execution_count": null,
      "metadata": {
        "colab": {
          "base_uri": "https://localhost:8080/"
        },
        "id": "HD-rZBs1xwDJ",
        "outputId": "11b82a42-3cb1-4db0-a44a-1ab91d42aac4"
      },
      "outputs": [
        {
          "name": "stdout",
          "output_type": "stream",
          "text": [
            "ingrese n 3\n",
            "ingrese v[1]3\n",
            "ingrese v[2]2\n",
            "ingrese v[3]1\n",
            "El elemento máximo de v es: 3\n"
          ]
        }
      ],
      "source": [
        "if __name__ == \"__main__\":\n",
        "  n = int(input(f\"ingrese n \"))\n",
        "  v = np.zeros((n+1,), dtype=int)\n",
        "  leer_vector_recursivo(v,n,1)\n",
        "  print(f'El elemento máximo de v es: {calMax(v,n,2,v[1])}')"
      ]
    }
  ],
  "metadata": {
    "colab": {
      "provenance": []
    },
    "kernelspec": {
      "display_name": "Python 3",
      "name": "python3"
    },
    "language_info": {
      "name": "python"
    }
  },
  "nbformat": 4,
  "nbformat_minor": 0
}
