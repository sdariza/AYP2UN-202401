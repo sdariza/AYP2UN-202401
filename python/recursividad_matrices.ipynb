{
  "cells": [
    {
      "cell_type": "markdown",
      "metadata": {
        "id": "e31xaH_Kq0ZU"
      },
      "source": [
        "# **Recursividad - Matrices**"
      ]
    },
    {
      "cell_type": "code",
      "execution_count": null,
      "metadata": {
        "id": "lXKiUaQdeGvu"
      },
      "outputs": [],
      "source": [
        "import numpy as np"
      ]
    },
    {
      "cell_type": "code",
      "execution_count": null,
      "metadata": {
        "id": "fhVRkJBNeZVF"
      },
      "outputs": [],
      "source": [
        "def leer_matriz_recursiva(A:np.array,n:int,m:int,i:int,j:int):\n",
        "  \"\"\"lectura de una matriz de forma recursiva\n",
        "\n",
        "  Args:\n",
        "      A (np.array): variable matriz\n",
        "      n (int): filas\n",
        "      m (int): columnas\n",
        "      i (int): variable para iterar sobre las filas\n",
        "      j (int): variable para iterar sobre las columnas\n",
        "  \"\"\"\n",
        "  if i<n:\n",
        "    if j <m:\n",
        "      A[i][j] = int(input(f\"Ingrese A[{i,j}] \"))\n",
        "      leer_matriz_recursiva(A,n,m,i,j+1)\n",
        "    else:\n",
        "      leer_matriz_recursiva(A,n,m,i+1,0)"
      ]
    },
    {
      "cell_type": "code",
      "execution_count": null,
      "metadata": {},
      "outputs": [],
      "source": [
        "\n",
        "\n",
        "def buscarVector(v:np.array,k:int,x:int,i:int):\n",
        "    \"\"\"función para buscar un elemento sobre un vector\n",
        "\n",
        "    Args:\n",
        "        v (np.array): variable vector\n",
        "        k (int): dimensión del vector (número de elementos)\n",
        "        x (int): elemento a buscar\n",
        "        i (int): variable iteradora sobre el vector\n",
        "\n",
        "    Returns:\n",
        "        boolean: true si es encontrado, false si no es encontrado\n",
        "    \"\"\"\n",
        "    if v[i] == x:\n",
        "        return True\n",
        "    else:\n",
        "        if i<n:\n",
        "            return buscarVector(v,k,x,i+1)\n",
        "        else:\n",
        "            return False"
      ]
    },
    {
      "cell_type": "code",
      "execution_count": null,
      "metadata": {},
      "outputs": [],
      "source": [
        "def generarVector(A:np.array,n:int,m:int,i:int,j:int,v:np.array,k:int):\n",
        "  \"\"\"función para generar vector de elementos impares\n",
        "\n",
        "  Args:\n",
        "      A (np.array): variable matriz\n",
        "      n (int): filas\n",
        "      m (int): columnas\n",
        "      i (int): variable para iterar las filas\n",
        "      j (int): variable para iterar las columnas\n",
        "      v (np.array): vector para almecenar los elementos impares\n",
        "      k (int): dimensión del vector generado\n",
        "\n",
        "  Returns:\n",
        "      int: dimensión del vector resultante\n",
        "  \"\"\"\n",
        "  if i == n and j == 0:\n",
        "    return k\n",
        "  else:# se pueden usar elif\n",
        "    if i < n:\n",
        "      if j <m:\n",
        "        if A[i][j] % 2 == 1:\n",
        "          if not buscarVector(v,k,A[i][j],0):\n",
        "            v[k] = A[i][j]\n",
        "            k+=1\n",
        "        return generarVector(A,n,m,i,j+1,v,k)\n",
        "      return generarVector(A,n,m,i+1,0,v,k)\n"
      ]
    },
    {
      "cell_type": "code",
      "execution_count": null,
      "metadata": {},
      "outputs": [],
      "source": [
        "def imprimir_vector_recursivo(v:np.array,n:int,i:int):\n",
        "  \"\"\"procedimiento para imprimir un vector de forma recursiva\n",
        "\n",
        "  Args:\n",
        "      v (np.array): vector\n",
        "      n (int): dimensión\n",
        "      i (int): variable iteradora\n",
        "  \"\"\"\n",
        "  if i < n:\n",
        "    print(v[i], end=\"|\")\n",
        "    imprimir_vector_recursivo(v,n,i+1)"
      ]
    },
    {
      "cell_type": "code",
      "execution_count": null,
      "metadata": {
        "colab": {
          "base_uri": "https://localhost:8080/"
        },
        "id": "x9Knvfw2fMTh",
        "outputId": "477bab8b-1693-4809-bf70-c59d3712c096"
      },
      "outputs": [
        {
          "name": "stdout",
          "output_type": "stream",
          "text": [
            "Ingrese n 3\n",
            "Ingrese m 3\n",
            "Ingrese A[(0, 0)] 4\n",
            "Ingrese A[(0, 1)] 5\n",
            "Ingrese A[(0, 2)] 6\n",
            "Ingrese A[(1, 0)] 10\n",
            "Ingrese A[(1, 1)] 1\n",
            "Ingrese A[(1, 2)] 2\n",
            "Ingrese A[(2, 0)] 3\n",
            "Ingrese A[(2, 1)] 0\n",
            "Ingrese A[(2, 2)] 1\n",
            "5|1|3|"
          ]
        }
      ],
      "source": [
        "if __name__ == \"__main__\":\n",
        "  n = int(input(f\"Ingrese el número de filas \"))\n",
        "  m = int(input(f\"Ingrese el número de columnas \"))\n",
        "  A = np.zeros((n,m), dtype=int)\n",
        "  v = np.zeros((n*m,), dtype=int)\n",
        "  leer_matriz_recursiva(A,n,n,0,0)\n",
        "  k = generarVector(A,n,m,0,0,v,0)\n",
        "  print(\"El vector generado es: \")\n",
        "  imprimir_vector_recursivo(v,k,0)"
      ]
    },
    {
      "cell_type": "markdown",
      "metadata": {
        "id": "M0DJDgipq6pj"
      },
      "source": [
        "# **Task**\n",
        "\n",
        "Codificar el pseudocódigo del recorrido dado en clase."
      ]
    },
    {
      "cell_type": "code",
      "execution_count": null,
      "metadata": {
        "id": "OfwOEf06q86T"
      },
      "outputs": [],
      "source": [
        "#type here...!"
      ]
    }
  ],
  "metadata": {
    "colab": {
      "provenance": []
    },
    "kernelspec": {
      "display_name": "Python 3",
      "name": "python3"
    }
  },
  "nbformat": 4,
  "nbformat_minor": 0
}
