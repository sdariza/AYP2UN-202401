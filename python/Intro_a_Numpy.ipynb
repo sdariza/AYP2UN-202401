{
  "cells": [
    {
      "cell_type": "code",
      "source": [
        "'20241'"
      ],
      "metadata": {
        "id": "4MMC5158Th5K",
        "outputId": "216fa008-9259-40d6-eca4-6a4b79755891",
        "colab": {
          "base_uri": "https://localhost:8080/",
          "height": 35
        }
      },
      "execution_count": null,
      "outputs": [
        {
          "output_type": "execute_result",
          "data": {
            "text/plain": [
              "'20241'"
            ],
            "application/vnd.google.colaboratory.intrinsic+json": {
              "type": "string"
            }
          },
          "metadata": {},
          "execution_count": 9
        }
      ]
    },
    {
      "cell_type": "code",
      "source": [
        "\"20241\"[-1]"
      ],
      "metadata": {
        "id": "TYyUxRd9Twvp",
        "outputId": "f98042e7-3fd6-43e6-f592-d383b3ab43db",
        "colab": {
          "base_uri": "https://localhost:8080/",
          "height": 35
        }
      },
      "execution_count": null,
      "outputs": [
        {
          "output_type": "execute_result",
          "data": {
            "text/plain": [
              "'1'"
            ],
            "application/vnd.google.colaboratory.intrinsic+json": {
              "type": "string"
            }
          },
          "metadata": {},
          "execution_count": 6
        }
      ]
    },
    {
      "cell_type": "code",
      "source": [
        "x = [0,]*n;\n",
        "x.append(5)\n",
        "x"
      ],
      "metadata": {
        "id": "VVMQYcjFUmYL",
        "outputId": "51b85d81-18f5-4ddd-95a4-619704fd2dde",
        "colab": {
          "base_uri": "https://localhost:8080/"
        }
      },
      "execution_count": null,
      "outputs": [
        {
          "output_type": "execute_result",
          "data": {
            "text/plain": [
              "[0, 0, 0, 0, 0, 0, 0, 0, 0, 0, 5]"
            ]
          },
          "metadata": {},
          "execution_count": 26
        }
      ]
    },
    {
      "cell_type": "code",
      "source": [],
      "metadata": {
        "id": "5JUu7Z9LYbBg"
      },
      "execution_count": null,
      "outputs": []
    },
    {
      "cell_type": "markdown",
      "source": [
        "# **Vectores con numpy**"
      ],
      "metadata": {
        "id": "LrYM7h1eZ5xO"
      }
    },
    {
      "cell_type": "code",
      "source": [
        "import numpy as np"
      ],
      "metadata": {
        "id": "SznNbVHuWDOy"
      },
      "execution_count": null,
      "outputs": []
    },
    {
      "cell_type": "code",
      "source": [
        "n = int(input(\"Ingrese la cantidad de elementos presentes en el vector: \"))\n",
        "n"
      ],
      "metadata": {
        "id": "JwULlmnGWdeS",
        "outputId": "65904feb-f1b9-42ee-e208-04f81a42f96f",
        "colab": {
          "base_uri": "https://localhost:8080/"
        }
      },
      "execution_count": null,
      "outputs": [
        {
          "name": "stdout",
          "output_type": "stream",
          "text": [
            "Ingrese la cantidad de elementos presentes en el vector: 10\n"
          ]
        },
        {
          "output_type": "execute_result",
          "data": {
            "text/plain": [
              "10"
            ]
          },
          "metadata": {},
          "execution_count": 3
        }
      ]
    },
    {
      "cell_type": "markdown",
      "source": [
        "#### **Función range para generar secuencia numérica**"
      ],
      "metadata": {
        "id": "DPFpVzI12VXq"
      }
    },
    {
      "cell_type": "code",
      "source": [
        "for i in range(1,n+1,2):\n",
        "  print(i, end=\"|\")"
      ],
      "metadata": {
        "id": "XrcrhBzhZrT3",
        "outputId": "d1db7597-3661-4d77-cc03-4b5ebc428ec4",
        "colab": {
          "base_uri": "https://localhost:8080/"
        }
      },
      "execution_count": null,
      "outputs": [
        {
          "output_type": "stream",
          "name": "stdout",
          "text": [
            "1|3|5|7|9|"
          ]
        }
      ]
    },
    {
      "cell_type": "markdown",
      "source": [
        "### **Lectura de un vector**"
      ],
      "metadata": {
        "id": "0U8-DDWv2gxY"
      }
    },
    {
      "cell_type": "code",
      "source": [
        "v = np.zeros((n+1,))\n",
        "\n",
        "for i in range(1,n+1):\n",
        "  # print(i)\n",
        "  v[i] = int(input(f'Ingrese el elemento v[{i}]: '))\n"
      ],
      "metadata": {
        "id": "jIVC0XHvXf8j",
        "outputId": "dfb6201b-9e3f-46e5-9afb-898a4704956e",
        "colab": {
          "base_uri": "https://localhost:8080/"
        }
      },
      "execution_count": null,
      "outputs": [
        {
          "output_type": "stream",
          "name": "stdout",
          "text": [
            "Ingrese el elemento v[1]: 0\n",
            "Ingrese el elemento v[2]: 0\n",
            "Ingrese el elemento v[3]: 0\n",
            "Ingrese el elemento v[4]: 0\n",
            "Ingrese el elemento v[5]: 0\n",
            "Ingrese el elemento v[6]: 0\n",
            "Ingrese el elemento v[7]: 1\n",
            "Ingrese el elemento v[8]: 5\n",
            "Ingrese el elemento v[9]: 6\n",
            "Ingrese el elemento v[10]: 1\n",
            "0.0 | 0.0 | 0.0 | 0.0 | 0.0 | 0.0 | 1.0 | 5.0 | 6.0 | 1.0 | "
          ]
        }
      ]
    },
    {
      "cell_type": "code",
      "source": [
        "for i in range(1,n+1):\n",
        "  print(v[i], end=\" | \")"
      ],
      "metadata": {
        "id": "1OhQUlQx2T8D"
      },
      "execution_count": null,
      "outputs": []
    },
    {
      "cell_type": "markdown",
      "source": [
        "# **Matrices con numpy**"
      ],
      "metadata": {
        "id": "ESbcQ2NPaJ1P"
      }
    },
    {
      "cell_type": "code",
      "source": [
        "n = 3\n",
        "A = np.zeros((n+1,n+1))\n",
        "B = np.zeros((n+1,n+1))\n",
        "for i in range(1,n+1):\n",
        "  for j in range(1, n+1):\n",
        "    A[i][j] = int(input(f'Ingrese el elemento A{i,j}: '))\n",
        "    B[i][j] = int(input(f'Ingrese el elemento B{i,j}: '))\n",
        "    # print(A[i][j], end=\"|\")\n",
        "  # print(\"\")"
      ],
      "metadata": {
        "id": "wBjqG7BXYrtY",
        "colab": {
          "base_uri": "https://localhost:8080/"
        },
        "outputId": "431f3443-54a3-4835-f310-4e1a807f0272"
      },
      "execution_count": null,
      "outputs": [
        {
          "name": "stdout",
          "output_type": "stream",
          "text": [
            "Ingrese el elemento A(1, 1): 1\n",
            "Ingrese el elemento B(1, 1): 2\n",
            "Ingrese el elemento A(1, 2): 3\n",
            "Ingrese el elemento B(1, 2): 4\n",
            "Ingrese el elemento A(1, 3): 5\n",
            "Ingrese el elemento B(1, 3): 6\n",
            "Ingrese el elemento A(2, 1): 7\n",
            "Ingrese el elemento B(2, 1): 8\n",
            "Ingrese el elemento A(2, 2): 9\n",
            "Ingrese el elemento B(2, 2): 10\n",
            "Ingrese el elemento A(2, 3): 11\n",
            "Ingrese el elemento B(2, 3): 12\n",
            "Ingrese el elemento A(3, 1): 13\n",
            "Ingrese el elemento B(3, 1): 14\n",
            "Ingrese el elemento A(3, 2): 15\n",
            "Ingrese el elemento B(3, 2): 16\n",
            "Ingrese el elemento A(3, 3): 17\n",
            "Ingrese el elemento B(3, 3): 18\n"
          ]
        }
      ]
    },
    {
      "cell_type": "markdown",
      "source": [
        "## **Imprimir matriz**"
      ],
      "metadata": {
        "id": "9XAIkT202GFc"
      }
    },
    {
      "cell_type": "code",
      "source": [
        "\n",
        "for i in range(1,n+1):\n",
        "  for j in range(1, n+1):\n",
        "    print(A[i][j], end=\"|\")\n",
        "  print(\"\")"
      ],
      "metadata": {
        "colab": {
          "base_uri": "https://localhost:8080/"
        },
        "id": "TBPbGd3RbwDz",
        "outputId": "6ad14cc2-a22a-4c13-b560-2d206451ef61"
      },
      "execution_count": null,
      "outputs": [
        {
          "output_type": "stream",
          "name": "stdout",
          "text": [
            "1.0|3.0|5.0|\n",
            "7.0|9.0|11.0|\n",
            "13.0|15.0|17.0|\n"
          ]
        }
      ]
    },
    {
      "cell_type": "code",
      "source": [
        "print(A[1:,1:])"
      ],
      "metadata": {
        "colab": {
          "base_uri": "https://localhost:8080/"
        },
        "id": "DHlyNDwsbTlz",
        "outputId": "bbb613f7-8399-4c71-ed5d-848abca22e6c"
      },
      "execution_count": null,
      "outputs": [
        {
          "output_type": "stream",
          "name": "stdout",
          "text": [
            "[[ 1.  3.  5.]\n",
            " [ 7.  9. 11.]\n",
            " [13. 15. 17.]]\n"
          ]
        }
      ]
    },
    {
      "cell_type": "markdown",
      "source": [
        "### **Producto matricial**"
      ],
      "metadata": {
        "id": "K6M25iKF2oDG"
      }
    },
    {
      "cell_type": "code",
      "source": [
        "C = np.zeros((n+1,n+1))\n",
        "for i in range(1,n+1):\n",
        "  for j in range(1, n+1):\n",
        "    sum = 0;\n",
        "    for k in range(1, n+1):\n",
        "      sum += A[i][k]*B[k][j] #sum = sum + A[i][k]*B[k][j]\n",
        "    C[i][j] = sum\n",
        "print(C[1:,1:])"
      ],
      "metadata": {
        "colab": {
          "base_uri": "https://localhost:8080/"
        },
        "id": "qfSoo6oVb3HF",
        "outputId": "89db57da-3af2-426f-9bb5-4684225092ec"
      },
      "execution_count": null,
      "outputs": [
        {
          "output_type": "stream",
          "name": "stdout",
          "text": [
            "[[ 96. 114. 132.]\n",
            " [240. 294. 348.]\n",
            " [384. 474. 564.]]\n"
          ]
        }
      ]
    },
    {
      "cell_type": "markdown",
      "source": [
        "  Note que numpy es una librería para operaciones numéricas entre arreglos con 1, 2, o más dimensiones. Una forma sencilla de operar dos matrices es como sigue"
      ],
      "metadata": {
        "id": "fRW9PV972q4Q"
      }
    },
    {
      "cell_type": "code",
      "source": [
        "(A@B)[1:, 1:]"
      ],
      "metadata": {
        "colab": {
          "base_uri": "https://localhost:8080/"
        },
        "id": "qBpDhYm4cP1d",
        "outputId": "1836d349-fc45-4890-ec37-4d973ccee142"
      },
      "execution_count": null,
      "outputs": [
        {
          "output_type": "execute_result",
          "data": {
            "text/plain": [
              "array([[ 96., 114., 132.],\n",
              "       [240., 294., 348.],\n",
              "       [384., 474., 564.]])"
            ]
          },
          "metadata": {},
          "execution_count": 18
        }
      ]
    },
    {
      "cell_type": "markdown",
      "source": [
        "# **Sin embargo para efectos del curso es indispensable conocer y desarrollar la lógica asociada a los algoritmos. Es decir, no se permite usar las funciones predefinidas por la librería de numpy.**"
      ],
      "metadata": {
        "id": "3v6lCTNC3HNK"
      }
    },
    {
      "cell_type": "code",
      "source": [
        "A.T[1:,1:]"
      ],
      "metadata": {
        "colab": {
          "base_uri": "https://localhost:8080/"
        },
        "id": "QIRCogy-c31f",
        "outputId": "d642a76d-d9be-4151-c244-b54875059eb1"
      },
      "execution_count": null,
      "outputs": [
        {
          "output_type": "execute_result",
          "data": {
            "text/plain": [
              "array([[ 1.,  7., 13.],\n",
              "       [ 3.,  9., 15.],\n",
              "       [ 5., 11., 17.]])"
            ]
          },
          "metadata": {},
          "execution_count": 20
        }
      ]
    },
    {
      "cell_type": "markdown",
      "source": [
        "**Ascii de una caracter**"
      ],
      "metadata": {
        "id": "teZj0IAx3ebz"
      }
    },
    {
      "cell_type": "code",
      "source": [
        "ord(\"ajuanlava\"[0])"
      ],
      "metadata": {
        "colab": {
          "base_uri": "https://localhost:8080/"
        },
        "id": "FdXgB5GodmvX",
        "outputId": "d1ba1eb0-2137-4a13-d08d-34460ba7ec13"
      },
      "execution_count": null,
      "outputs": [
        {
          "output_type": "execute_result",
          "data": {
            "text/plain": [
              "97"
            ]
          },
          "metadata": {},
          "execution_count": 25
        }
      ]
    }
  ],
  "metadata": {
    "colab": {
      "provenance": []
    },
    "kernelspec": {
      "display_name": "Python 3",
      "name": "python3"
    }
  },
  "nbformat": 4,
  "nbformat_minor": 0
}
