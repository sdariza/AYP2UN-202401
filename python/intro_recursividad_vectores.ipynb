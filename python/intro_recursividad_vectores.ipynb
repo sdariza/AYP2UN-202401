{
  "nbformat": 4,
  "nbformat_minor": 0,
  "metadata": {
    "colab": {
      "provenance": []
    },
    "kernelspec": {
      "name": "python3",
      "display_name": "Python 3"
    },
    "language_info": {
      "name": "python"
    }
  },
  "cells": [
    {
      "cell_type": "code",
      "execution_count": null,
      "metadata": {
        "id": "VTLP2YfDosRq"
      },
      "outputs": [],
      "source": [
        "def suma_recursiva(n,i):\n",
        "  if n == i :\n",
        "    return n\n",
        "  else:\n",
        "    print(f'suma_recursiva{n,i+1}+{i}')\n",
        "    return suma_recursiva(n,i+1)+i"
      ]
    },
    {
      "cell_type": "code",
      "source": [
        "print(suma_recursiva(5,1))"
      ],
      "metadata": {
        "colab": {
          "base_uri": "https://localhost:8080/"
        },
        "id": "ZJd_URPuo8Fx",
        "outputId": "04ab25c9-5e9d-46ac-9010-5f393b5e0492"
      },
      "execution_count": null,
      "outputs": [
        {
          "output_type": "stream",
          "name": "stdout",
          "text": [
            "suma_recursiva(5, 2)+1\n",
            "suma_recursiva(5, 3)+2\n",
            "suma_recursiva(5, 4)+3\n",
            "suma_recursiva(5, 5)+4\n",
            "15\n"
          ]
        }
      ]
    },
    {
      "cell_type": "code",
      "source": [
        "def suma_recursiva(n,i):\n",
        "  if n == i :\n",
        "    return n\n",
        "  else:\n",
        "    print(f'suma_recursiva{n,i+1}+{i}')\n",
        "    return suma_recursiva(n,i+1)+i"
      ],
      "metadata": {
        "id": "UVVmubpzo1E5"
      },
      "execution_count": null,
      "outputs": []
    },
    {
      "cell_type": "code",
      "source": [
        "def factorial_recursivo(n):\n",
        "  if n == 0:\n",
        "    return 1\n",
        "  else:\n",
        "    return factorial_recursivo(n-1) * n"
      ],
      "metadata": {
        "id": "TBX09lpOs4qK"
      },
      "execution_count": null,
      "outputs": []
    },
    {
      "cell_type": "code",
      "source": [
        "s = 0\n",
        "for i in range(99):\n",
        "  s = 1/factorial_recursivo(i) +s\n",
        "s"
      ],
      "metadata": {
        "colab": {
          "base_uri": "https://localhost:8080/"
        },
        "id": "wwnnBzHWtECE",
        "outputId": "7772b967-67fb-4b0f-8dcd-0d2fcefce2a3"
      },
      "execution_count": null,
      "outputs": [
        {
          "output_type": "execute_result",
          "data": {
            "text/plain": [
              "2.7182818284590455"
            ]
          },
          "metadata": {},
          "execution_count": 13
        }
      ]
    },
    {
      "cell_type": "markdown",
      "source": [
        "Realice un algoritmo netamente recursivo para leer un vector de n elementos e imprima el máximo elemento que este contiene."
      ],
      "metadata": {
        "id": "dR2XnubBwlzY"
      }
    },
    {
      "cell_type": "code",
      "source": [
        "import numpy as np"
      ],
      "metadata": {
        "id": "UwwySM-3xN4p"
      },
      "execution_count": null,
      "outputs": []
    },
    {
      "cell_type": "code",
      "source": [
        "def leer_vector_recursivo(v:np.array,n:int,i:int):\n",
        "  if n == i:\n",
        "    v[i] = int(input(f\"ingrese v[{i}]\"))\n",
        "  else:\n",
        "    v[i] = int(input(f\"ingrese v[{i}]\"))\n",
        "    leer_vector_recursivo(v,n,i+1)\n",
        "\n",
        "def leer_vector_recursivo_valeria(v:np.array,n:int,i:int):\n",
        "  if n+1 != i:\n",
        "    v[i] = int(input(f\"ingrese v[{i}]\"))\n",
        "    leer_vector_recursivo_valeria(v,n,i+1)\n",
        "\n",
        "def calMax(v,n,i,max):\n",
        "  if i == n+1:\n",
        "    return max\n",
        "  else:\n",
        "    max = v[i] if max < v[i] else max\n",
        "    return calMax(v,n,i+1,max)\n",
        "\n"
      ],
      "metadata": {
        "id": "Ei0jEJhlwjxa"
      },
      "execution_count": null,
      "outputs": []
    },
    {
      "cell_type": "code",
      "source": [
        "if __name__ == \"__main__\":\n",
        "  n = int(input(f\"ingrese n \"))\n",
        "  v = np.zeros((n+1,), dtype=int)\n",
        "  # leer_vector_recursivo(v,n,1)\n",
        "  leer_vector_recursivo_valeria(v,n,1)\n",
        "  print(f'El elemento máximo de v es: {calMax(v,n,2,v[1])}')"
      ],
      "metadata": {
        "colab": {
          "base_uri": "https://localhost:8080/"
        },
        "id": "HD-rZBs1xwDJ",
        "outputId": "11b82a42-3cb1-4db0-a44a-1ab91d42aac4"
      },
      "execution_count": null,
      "outputs": [
        {
          "output_type": "stream",
          "name": "stdout",
          "text": [
            "ingrese n 3\n",
            "ingrese v[1]3\n",
            "ingrese v[2]2\n",
            "ingrese v[3]1\n",
            "El elemento máximo de v es: 3\n"
          ]
        }
      ]
    }
  ]
}