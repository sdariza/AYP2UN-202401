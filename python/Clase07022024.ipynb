{
  "nbformat": 4,
  "nbformat_minor": 0,
  "metadata": {
    "colab": {
      "provenance": []
    },
    "kernelspec": {
      "name": "python3",
      "display_name": "Python 3"
    },
    "language_info": {
      "name": "python"
    }
  },
  "cells": [
    {
      "cell_type": "code",
      "source": [
        "!ls -al"
      ],
      "metadata": {
        "colab": {
          "base_uri": "https://localhost:8080/"
        },
        "id": "DrcReinc7tKe",
        "outputId": "cd02cba1-e8c9-4d8f-92ca-51a22baeb9b5"
      },
      "execution_count": null,
      "outputs": [
        {
          "output_type": "stream",
          "name": "stdout",
          "text": [
            "total 16\n",
            "drwxr-xr-x 1 root root 4096 Feb  6 14:23 .\n",
            "drwxr-xr-x 1 root root 4096 Feb  7 18:28 ..\n",
            "drwxr-xr-x 4 root root 4096 Feb  6 14:23 .config\n",
            "drwxr-xr-x 1 root root 4096 Feb  6 14:23 sample_data\n"
          ]
        }
      ]
    },
    {
      "cell_type": "code",
      "source": [
        "!pwd"
      ],
      "metadata": {
        "colab": {
          "base_uri": "https://localhost:8080/"
        },
        "id": "cuVEQTsk78Ob",
        "outputId": "8471f86b-1b8d-4d7f-aa0f-e61f03a7e34f"
      },
      "execution_count": null,
      "outputs": [
        {
          "output_type": "stream",
          "name": "stdout",
          "text": [
            "/content\n"
          ]
        }
      ]
    },
    {
      "cell_type": "markdown",
      "source": [
        "# **Conversor de bases de la 2 a la 10.**"
      ],
      "metadata": {
        "id": "y4v_1coYyaco"
      }
    },
    {
      "cell_type": "code",
      "source": [
        "exp = 0; b10= 0; bff=0;\n",
        "num = int(input(\"Ingrese el número: \"))\n",
        "bi = int(input(\"Ingrese la base inicial: \"))\n",
        "bf = int(input(\"Ingrese la base final: \"))\n",
        "coc = num\n",
        "while coc != 0:\n",
        "  b10 = (coc % 10) * (bi**exp) + b10\n",
        "  coc = coc // 10\n",
        "  exp+=1\n",
        "print(f'{num} en base {bi} es igual a  {b10} en base 10')\n",
        "exp = 0\n",
        "while b10 != 0:\n",
        "  bff += (b10%bf) * 10 ** exp\n",
        "  b10 = b10 // bf\n",
        "  exp+=1\n",
        "print(f'{num} en base {bi} es igual a  {bff} en base {bf}')"
      ],
      "metadata": {
        "id": "_NSsF6jF3yTc",
        "colab": {
          "base_uri": "https://localhost:8080/"
        },
        "outputId": "c747c293-1501-47d0-d547-99efa9382277"
      },
      "execution_count": 2,
      "outputs": [
        {
          "output_type": "stream",
          "name": "stdout",
          "text": [
            "Ingrese el número: 1111\n",
            "Ingrese la base inicial: 3\n",
            "Ingrese la base final: 6\n",
            "1111 en base 3 es igual a  40 en base 10\n",
            "1111 en base 3 es igual a  104 en base 6\n"
          ]
        }
      ]
    }
  ]
}