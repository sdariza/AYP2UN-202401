{
  "cells": [
    {
      "cell_type": "markdown",
      "source": [
        "# **Recursividad - Matrices**"
      ],
      "metadata": {
        "id": "e31xaH_Kq0ZU"
      }
    },
    {
      "cell_type": "code",
      "source": [
        "import numpy as np"
      ],
      "metadata": {
        "id": "lXKiUaQdeGvu"
      },
      "execution_count": null,
      "outputs": []
    },
    {
      "cell_type": "code",
      "source": [
        "def leer_matriz_recursiva(A,n,m,i,j):\n",
        "  if i<n:\n",
        "    if j <m:\n",
        "      A[i][j] = int(input(f\"Ingrese A[{i,j}] \"))\n",
        "      leer_matriz_recursiva(A,n,m,i,j+1)\n",
        "    else:\n",
        "      leer_matriz_recursiva(A,n,m,i+1,0)\n",
        "\n",
        "\n",
        "def buscarVector(v,k,x,i):\n",
        "  if v[i] == x:\n",
        "    return True\n",
        "  else:\n",
        "    if i<n:\n",
        "      return buscarVector(v,k,x,i+1)\n",
        "    else:\n",
        "      return False\n",
        "\n",
        "def generarVector(A,n,m,i,j,v,k):\n",
        "  if i == n and j == 0:\n",
        "    return k\n",
        "  else:# se pueden usar elif\n",
        "    if i < n:\n",
        "      if j <m:\n",
        "        if A[i][j] % 2 == 1:\n",
        "          if not buscarVector(v,k,A[i][j],0):\n",
        "            v[k] = A[i][j]\n",
        "            k+=1\n",
        "        return generarVector(A,n,m,i,j+1,v,k)\n",
        "      return generarVector(A,n,m,i+1,0,v,k)\n",
        "\n",
        "def imprimir_vector_recursivo(v,n,i):\n",
        "  if i < n:\n",
        "    print(v[i], end=\"|\")\n",
        "    imprimir_vector_recursivo(v,n,i+1)"
      ],
      "metadata": {
        "id": "fhVRkJBNeZVF"
      },
      "execution_count": null,
      "outputs": []
    },
    {
      "cell_type": "code",
      "source": [
        "if __name__ == \"__main__\":\n",
        "  n = int(input(f\"Ingrese n \"))\n",
        "  m = int(input(f\"Ingrese m \"))\n",
        "  A = np.zeros((n,m), dtype=int)\n",
        "  v = np.zeros((n*m,), dtype=int)\n",
        "  leer_matriz_recursiva(A,n,n,0,0)\n",
        "  k = generarVector(A,n,m,0,0,v,0)\n",
        "  print(\"El vector generado es: \")\n",
        "  imprimir_vector_recursivo(v,k,0)"
      ],
      "metadata": {
        "id": "x9Knvfw2fMTh",
        "outputId": "477bab8b-1693-4809-bf70-c59d3712c096",
        "colab": {
          "base_uri": "https://localhost:8080/"
        }
      },
      "execution_count": null,
      "outputs": [
        {
          "output_type": "stream",
          "name": "stdout",
          "text": [
            "Ingrese n 3\n",
            "Ingrese m 3\n",
            "Ingrese A[(0, 0)] 4\n",
            "Ingrese A[(0, 1)] 5\n",
            "Ingrese A[(0, 2)] 6\n",
            "Ingrese A[(1, 0)] 10\n",
            "Ingrese A[(1, 1)] 1\n",
            "Ingrese A[(1, 2)] 2\n",
            "Ingrese A[(2, 0)] 3\n",
            "Ingrese A[(2, 1)] 0\n",
            "Ingrese A[(2, 2)] 1\n",
            "5|1|3|"
          ]
        }
      ]
    },
    {
      "cell_type": "markdown",
      "source": [
        "# **Task**\n",
        "\n",
        "Codificar el pseudocódigo del recorrido dado en clase."
      ],
      "metadata": {
        "id": "M0DJDgipq6pj"
      }
    },
    {
      "cell_type": "code",
      "source": [
        "#type here...!"
      ],
      "metadata": {
        "id": "OfwOEf06q86T"
      },
      "execution_count": null,
      "outputs": []
    }
  ],
  "metadata": {
    "colab": {
      "provenance": []
    },
    "kernelspec": {
      "display_name": "Python 3",
      "name": "python3"
    }
  },
  "nbformat": 4,
  "nbformat_minor": 0
}